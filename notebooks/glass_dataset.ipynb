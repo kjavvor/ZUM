{
 "cells": [
  {
   "metadata": {
    "ExecuteTime": {
     "end_time": "2024-04-29T15:20:24.101955Z",
     "start_time": "2024-04-29T15:20:22.871385Z"
    }
   },
   "cell_type": "code",
   "source": [
    "import numpy as np\n",
    "from src.dbscan import DBSCAN"
   ],
   "id": "1b4a0777b90a77dd",
   "outputs": [],
   "execution_count": 1
  },
  {
   "cell_type": "code",
   "id": "initial_id",
   "metadata": {
    "collapsed": true,
    "ExecuteTime": {
     "end_time": "2024-04-29T15:20:25.812360Z",
     "start_time": "2024-04-29T15:20:24.103275Z"
    }
   },
   "source": [
    "from ucimlrepo import fetch_ucirepo \n",
    "  \n",
    "# fetch dataset \n",
    "glass_identification = fetch_ucirepo(id=42) \n",
    "  \n",
    "# data (as pandas dataframes) \n",
    "X = glass_identification.data.features \n",
    "y = glass_identification.data.targets "
   ],
   "outputs": [],
   "execution_count": 2
  },
  {
   "metadata": {
    "ExecuteTime": {
     "end_time": "2024-04-29T15:20:47.696007Z",
     "start_time": "2024-04-29T15:20:47.682408Z"
    }
   },
   "cell_type": "code",
   "source": [
    "dbscan = DBSCAN(eps=0.3, min_samples=5)\n",
    "y_pred = dbscan.fit_predict(X, metric=\"euclidean\")"
   ],
   "id": "742b0cf41fcafb71",
   "outputs": [],
   "execution_count": 8
  },
  {
   "metadata": {
    "ExecuteTime": {
     "end_time": "2024-04-29T15:20:47.845045Z",
     "start_time": "2024-04-29T15:20:47.842010Z"
    }
   },
   "cell_type": "code",
   "source": "np.unique(y, return_counts=True)",
   "id": "129f9d2f360341cf",
   "outputs": [
    {
     "data": {
      "text/plain": [
       "(array([1, 2, 3, 5, 6, 7]), array([70, 76, 17, 13,  9, 29]))"
      ]
     },
     "execution_count": 9,
     "metadata": {},
     "output_type": "execute_result"
    }
   ],
   "execution_count": 9
  },
  {
   "metadata": {
    "ExecuteTime": {
     "end_time": "2024-04-29T15:20:48.037326Z",
     "start_time": "2024-04-29T15:20:48.034290Z"
    }
   },
   "cell_type": "code",
   "source": "np.unique(y_pred, return_counts=True)",
   "id": "e15c6b84c7ca8110",
   "outputs": [
    {
     "data": {
      "text/plain": [
       "(array([-1,  0,  1,  2,  3]), array([148,  16,  40,   5,   5]))"
      ]
     },
     "execution_count": 10,
     "metadata": {},
     "output_type": "execute_result"
    }
   ],
   "execution_count": 10
  },
  {
   "metadata": {
    "ExecuteTime": {
     "end_time": "2024-04-29T15:20:48.210396Z",
     "start_time": "2024-04-29T15:20:48.204777Z"
    }
   },
   "cell_type": "code",
   "source": [
    "import sklearn.cluster\n",
    "\n",
    "dbscan = sklearn.cluster.DBSCAN(eps=0.3, min_samples=5)\n",
    "y_pred = dbscan.fit_predict(X)\n",
    "np.unique(y_pred, return_counts=True)"
   ],
   "id": "e0c68fc2dffd8e47",
   "outputs": [
    {
     "data": {
      "text/plain": [
       "(array([-1,  0,  1,  2,  3]), array([148,  16,  40,   5,   5]))"
      ]
     },
     "execution_count": 11,
     "metadata": {},
     "output_type": "execute_result"
    }
   ],
   "execution_count": 11
  },
  {
   "metadata": {
    "ExecuteTime": {
     "end_time": "2024-04-29T15:20:25.926140Z",
     "start_time": "2024-04-29T15:20:25.924521Z"
    }
   },
   "cell_type": "code",
   "source": "",
   "id": "f2562475664693aa",
   "outputs": [],
   "execution_count": 6
  }
 ],
 "metadata": {
  "kernelspec": {
   "display_name": "Python 3",
   "language": "python",
   "name": "python3"
  },
  "language_info": {
   "codemirror_mode": {
    "name": "ipython",
    "version": 2
   },
   "file_extension": ".py",
   "mimetype": "text/x-python",
   "name": "python",
   "nbconvert_exporter": "python",
   "pygments_lexer": "ipython2",
   "version": "2.7.6"
  }
 },
 "nbformat": 4,
 "nbformat_minor": 5
}
